{
 "cells": [
  {
   "cell_type": "markdown",
   "metadata": {},
   "source": [
    "## file Load"
   ]
  },
  {
   "cell_type": "code",
   "execution_count": 3,
   "metadata": {},
   "outputs": [],
   "source": [
    "import pandas as pd\n",
    "import seaborn as sns\n",
    "import matplotlib as mpl\n",
    "import matplotlib.pylab as plt\n",
    "\n",
    "# 한글깨짐 해결\n",
    "plt.rcParams[\"font.family\"] = \"Malgun Gothic\"\n",
    "plt.rcParams[\"font.size\"] = 12\n",
    "plt.rcParams[\"figure.figsize\"] = (14,4)\n",
    "# 마이너스 깨짐 해결\n",
    "mpl.rcParams['axes.unicode_minus'] = False"
   ]
  },
  {
   "cell_type": "markdown",
   "metadata": {},
   "source": [
    "# station"
   ]
  },
  {
   "cell_type": "code",
   "execution_count": 4,
   "metadata": {},
   "outputs": [],
   "source": [
    "stations_table = pd.read_csv(\"./PJT001_stations_table.csv\")"
   ]
  },
  {
   "cell_type": "code",
   "execution_count": 5,
   "metadata": {},
   "outputs": [
    {
     "data": {
      "text/html": [
       "<div>\n",
       "<style scoped>\n",
       "    .dataframe tbody tr th:only-of-type {\n",
       "        vertical-align: middle;\n",
       "    }\n",
       "\n",
       "    .dataframe tbody tr th {\n",
       "        vertical-align: top;\n",
       "    }\n",
       "\n",
       "    .dataframe thead th {\n",
       "        text-align: right;\n",
       "    }\n",
       "</style>\n",
       "<table border=\"1\" class=\"dataframe\">\n",
       "  <thead>\n",
       "    <tr style=\"text-align: right;\">\n",
       "      <th></th>\n",
       "      <th>표준정류장ID</th>\n",
       "      <th>시군명</th>\n",
       "      <th>정류소명</th>\n",
       "      <th>정류소영문명</th>\n",
       "      <th>정류소번호</th>\n",
       "      <th>중앙차로여부</th>\n",
       "      <th>관할관청</th>\n",
       "      <th>위치</th>\n",
       "      <th>WGS84위도</th>\n",
       "      <th>WGS84경도</th>\n",
       "      <th>모바일정류장ID</th>\n",
       "      <th>이비카드정류장ID</th>\n",
       "    </tr>\n",
       "  </thead>\n",
       "  <tbody>\n",
       "    <tr>\n",
       "      <th>0</th>\n",
       "      <td>228003422</td>\n",
       "      <td>용인시</td>\n",
       "      <td>손골마을회관.국제학교</td>\n",
       "      <td>Songol Community Center,</td>\n",
       "      <td>56443.0</td>\n",
       "      <td>노변정류장</td>\n",
       "      <td>경기도 용인시</td>\n",
       "      <td>NaN</td>\n",
       "      <td>37.342517</td>\n",
       "      <td>127.066817</td>\n",
       "      <td>56443.0</td>\n",
       "      <td>NaN</td>\n",
       "    </tr>\n",
       "    <tr>\n",
       "      <th>1</th>\n",
       "      <td>228003423</td>\n",
       "      <td>용인시</td>\n",
       "      <td>풀잎사랑</td>\n",
       "      <td>Pulipsarang</td>\n",
       "      <td>56444.0</td>\n",
       "      <td>노변정류장</td>\n",
       "      <td>경기도 용인시</td>\n",
       "      <td>NaN</td>\n",
       "      <td>37.341800</td>\n",
       "      <td>127.068983</td>\n",
       "      <td>56444.0</td>\n",
       "      <td>NaN</td>\n",
       "    </tr>\n",
       "    <tr>\n",
       "      <th>2</th>\n",
       "      <td>228003424</td>\n",
       "      <td>용인시</td>\n",
       "      <td>풀잎사랑</td>\n",
       "      <td>Pulipsarang</td>\n",
       "      <td>56445.0</td>\n",
       "      <td>노변정류장</td>\n",
       "      <td>경기도 용인시</td>\n",
       "      <td>NaN</td>\n",
       "      <td>37.341817</td>\n",
       "      <td>127.069083</td>\n",
       "      <td>56445.0</td>\n",
       "      <td>NaN</td>\n",
       "    </tr>\n",
       "    <tr>\n",
       "      <th>3</th>\n",
       "      <td>228003425</td>\n",
       "      <td>용인시</td>\n",
       "      <td>대성공정</td>\n",
       "      <td>Daesung Process</td>\n",
       "      <td>56446.0</td>\n",
       "      <td>노변정류장</td>\n",
       "      <td>경기도 용인시</td>\n",
       "      <td>NaN</td>\n",
       "      <td>37.339350</td>\n",
       "      <td>127.073067</td>\n",
       "      <td>56446.0</td>\n",
       "      <td>NaN</td>\n",
       "    </tr>\n",
       "    <tr>\n",
       "      <th>4</th>\n",
       "      <td>228003426</td>\n",
       "      <td>용인시</td>\n",
       "      <td>대성공정</td>\n",
       "      <td>Daesung Process</td>\n",
       "      <td>56447.0</td>\n",
       "      <td>노변정류장</td>\n",
       "      <td>경기도 용인시</td>\n",
       "      <td>NaN</td>\n",
       "      <td>37.339183</td>\n",
       "      <td>127.073400</td>\n",
       "      <td>56447.0</td>\n",
       "      <td>NaN</td>\n",
       "    </tr>\n",
       "  </tbody>\n",
       "</table>\n",
       "</div>"
      ],
      "text/plain": [
       "     표준정류장ID  시군명         정류소명                     정류소영문명    정류소번호 중앙차로여부  \\\n",
       "0  228003422  용인시  손골마을회관.국제학교  Songol Community Center,   56443.0  노변정류장   \n",
       "1  228003423  용인시         풀잎사랑                Pulipsarang  56444.0  노변정류장   \n",
       "2  228003424  용인시         풀잎사랑                Pulipsarang  56445.0  노변정류장   \n",
       "3  228003425  용인시         대성공정            Daesung Process  56446.0  노변정류장   \n",
       "4  228003426  용인시         대성공정            Daesung Process  56447.0  노변정류장   \n",
       "\n",
       "      관할관청   위치    WGS84위도     WGS84경도 모바일정류장ID  이비카드정류장ID  \n",
       "0  경기도 용인시  NaN  37.342517  127.066817  56443.0        NaN  \n",
       "1  경기도 용인시  NaN  37.341800  127.068983  56444.0        NaN  \n",
       "2  경기도 용인시  NaN  37.341817  127.069083  56445.0        NaN  \n",
       "3  경기도 용인시  NaN  37.339350  127.073067  56446.0        NaN  \n",
       "4  경기도 용인시  NaN  37.339183  127.073400  56447.0        NaN  "
      ]
     },
     "execution_count": 5,
     "metadata": {},
     "output_type": "execute_result"
    }
   ],
   "source": [
    "stations_table.head()"
   ]
  },
  {
   "cell_type": "markdown",
   "metadata": {},
   "source": [
    "# sk_emd_od"
   ]
  },
  {
   "cell_type": "code",
   "execution_count": 6,
   "metadata": {},
   "outputs": [],
   "source": [
    "sk_emd = pd.read_csv(\"./PJT001_sk_emd_od.csv\")"
   ]
  },
  {
   "cell_type": "code",
   "execution_count": 8,
   "metadata": {},
   "outputs": [
    {
     "data": {
      "text/html": [
       "<div>\n",
       "<style scoped>\n",
       "    .dataframe tbody tr th:only-of-type {\n",
       "        vertical-align: middle;\n",
       "    }\n",
       "\n",
       "    .dataframe tbody tr th {\n",
       "        vertical-align: top;\n",
       "    }\n",
       "\n",
       "    .dataframe thead th {\n",
       "        text-align: right;\n",
       "    }\n",
       "</style>\n",
       "<table border=\"1\" class=\"dataframe\">\n",
       "  <thead>\n",
       "    <tr style=\"text-align: right;\">\n",
       "      <th></th>\n",
       "      <th>std_ymd</th>\n",
       "      <th>tm_trm</th>\n",
       "      <th>org</th>\n",
       "      <th>dst</th>\n",
       "      <th>pop</th>\n",
       "    </tr>\n",
       "  </thead>\n",
       "  <tbody>\n",
       "    <tr>\n",
       "      <th>0</th>\n",
       "      <td>20180703</td>\n",
       "      <td>00_05</td>\n",
       "      <td>기배동</td>\n",
       "      <td>남양읍</td>\n",
       "      <td>11.04</td>\n",
       "    </tr>\n",
       "    <tr>\n",
       "      <th>1</th>\n",
       "      <td>20180703</td>\n",
       "      <td>00_05</td>\n",
       "      <td>기배동</td>\n",
       "      <td>동탄1동</td>\n",
       "      <td>13.80</td>\n",
       "    </tr>\n",
       "    <tr>\n",
       "      <th>2</th>\n",
       "      <td>20180703</td>\n",
       "      <td>00_05</td>\n",
       "      <td>기배동</td>\n",
       "      <td>동탄2동</td>\n",
       "      <td>24.84</td>\n",
       "    </tr>\n",
       "    <tr>\n",
       "      <th>3</th>\n",
       "      <td>20180703</td>\n",
       "      <td>00_05</td>\n",
       "      <td>기배동</td>\n",
       "      <td>동탄3동</td>\n",
       "      <td>8.28</td>\n",
       "    </tr>\n",
       "    <tr>\n",
       "      <th>4</th>\n",
       "      <td>20180703</td>\n",
       "      <td>00_05</td>\n",
       "      <td>기배동</td>\n",
       "      <td>동탄4동</td>\n",
       "      <td>2.76</td>\n",
       "    </tr>\n",
       "  </tbody>\n",
       "</table>\n",
       "</div>"
      ],
      "text/plain": [
       "    std_ymd tm_trm  org   dst    pop\n",
       "0  20180703  00_05  기배동   남양읍  11.04\n",
       "1  20180703  00_05  기배동  동탄1동  13.80\n",
       "2  20180703  00_05  기배동  동탄2동  24.84\n",
       "3  20180703  00_05  기배동  동탄3동   8.28\n",
       "4  20180703  00_05  기배동  동탄4동   2.76"
      ]
     },
     "execution_count": 8,
     "metadata": {},
     "output_type": "execute_result"
    }
   ],
   "source": [
    "sk_emd.head()"
   ]
  },
  {
   "cell_type": "markdown",
   "metadata": {},
   "source": [
    "## org dst 별 pop"
   ]
  },
  {
   "cell_type": "code",
   "execution_count": 9,
   "metadata": {},
   "outputs": [
    {
     "data": {
      "image/png": "[encoded data removed]",
      "text/plain": [
       "<Figure size 432x288 with 1 Axes>"
      ]
     },
     "metadata": {
      "needs_background": "light"
     },
     "output_type": "display_data"
    }
   ],
   "source": [
    "sns.countplot(sk_emd['dst']);"
   ]
  },
  {
   "cell_type": "code",
   "execution_count": 10,
   "metadata": {},
   "outputs": [
    {
     "name": "stdout",
     "output_type": "stream",
     "text": [
      "org\n",
      "동탄2동    430871.46\n",
      "동탄3동    349144.62\n",
      "향남읍     323600.16\n",
      "봉담읍     308383.44\n",
      "동탄4동    301980.80\n",
      "동탄6동    252096.52\n",
      "진안동     234082.53\n",
      "병점2동    177791.59\n",
      "병점1동    168612.30\n",
      "반월동     168043.18\n",
      "동탄5동    164428.96\n",
      "남양읍     131735.01\n",
      "화산동     128132.41\n",
      "동탄1동    122037.97\n",
      "우정읍      84677.52\n",
      "기배동      78332.80\n",
      "팔탄면      69370.23\n",
      "장안면      65360.38\n",
      "마도면      46250.94\n",
      "정남면      45624.30\n",
      "송산면      37926.78\n",
      "비봉면      34519.66\n",
      "매송면      28359.08\n",
      "서신면      23623.23\n",
      "양감면      19851.05\n",
      "Name: pop, dtype: float64\n"
     ]
    },
    {
     "data": {
      "text/plain": [
       "<matplotlib.axes._subplots.AxesSubplot at 0x1874cd14160>"
      ]
     },
     "execution_count": 10,
     "metadata": {},
     "output_type": "execute_result"
    },
    {
     "data": {
      "image/png": "[encoded data removed]",
      "text/plain": [
       "<Figure size 432x288 with 1 Axes>"
      ]
     },
     "metadata": {
      "needs_background": "light"
     },
     "output_type": "display_data"
    }
   ],
   "source": [
    "# 동수별 인구 이동수 출력\n",
    "# print(sk_emd[\"org\"].drop_duplicates())\n",
    "dong_org_group = sk_emd[\"pop\"].groupby(sk_emd[\"org\"])\n",
    "print(dong_org_group.sum().sort_values(ascending=False))\n",
    "dong_org_group.sum().plot(style='.-')"
   ]
  },
  {
   "cell_type": "code",
   "execution_count": 11,
   "metadata": {},
   "outputs": [
    {
     "name": "stdout",
     "output_type": "stream",
     "text": [
      "dst\n",
      "동탄2동    374645.41\n",
      "반월동     327906.56\n",
      "동탄1동    260670.74\n",
      "동탄3동    250128.22\n",
      "동탄6동    246563.77\n",
      "팔탄면     205209.63\n",
      "봉담읍     201858.69\n",
      "동탄5동    191843.01\n",
      "진안동     187928.26\n",
      "향남읍     177442.85\n",
      "병점1동    144398.15\n",
      "동탄4동    133742.01\n",
      "병점2동    132244.64\n",
      "정남면     130661.96\n",
      "남양읍     130062.90\n",
      "장안면     119781.24\n",
      "화산동     119346.53\n",
      "우정읍     111212.40\n",
      "마도면      66878.88\n",
      "양감면      64789.93\n",
      "기배동      55565.92\n",
      "비봉면      52002.70\n",
      "송산면      48941.41\n",
      "서신면      38755.56\n",
      "매송면      22255.55\n",
      "Name: pop, dtype: float64\n"
     ]
    },
    {
     "data": {
      "text/plain": [
       "[<matplotlib.lines.Line2D at 0x1874cdf1400>]"
      ]
     },
     "execution_count": 11,
     "metadata": {},
     "output_type": "execute_result"
    },
    {
     "data": {
      "image/png": "[encoded data removed]",
      "text/plain": [
       "<Figure size 432x288 with 1 Axes>"
      ]
     },
     "metadata": {
      "needs_background": "light"
     },
     "output_type": "display_data"
    }
   ],
   "source": [
    "# 도착지별 출력\n",
    "# print(sk_emd[\"dst\"].drop_duplicates())\n",
    "dong_dst_group = sk_emd[\"pop\"].groupby(sk_emd[\"dst\"])\n",
    "print(dong_dst_group.sum().sort_values(ascending=False))\n",
    "# dong_dst_group.sum().plot(style='.-')\n",
    "plt.plot(dong_dst_group.sum())"
   ]
  },
  {
   "cell_type": "markdown",
   "metadata": {},
   "source": [
    "## 시간대별 pop"
   ]
  },
  {
   "cell_type": "code",
   "execution_count": 12,
   "metadata": {},
   "outputs": [
    {
     "name": "stdout",
     "output_type": "stream",
     "text": [
      "tm_trm\n",
      "12_17    1407725.50\n",
      "06_11    1118198.75\n",
      "18_23     977335.84\n",
      "00_05     291576.83\n",
      "Name: pop, dtype: float64\n"
     ]
    },
    {
     "data": {
      "text/plain": [
       "<matplotlib.axes._subplots.AxesSubplot at 0x1874ce53668>"
      ]
     },
     "execution_count": 12,
     "metadata": {},
     "output_type": "execute_result"
    },
    {
     "data": {
      "image/png": "[encoded data removed]",
      "text/plain": [
       "<Figure size 432x288 with 1 Axes>"
      ]
     },
     "metadata": {
      "needs_background": "light"
     },
     "output_type": "display_data"
    }
   ],
   "source": [
    "# 출근시간대보다 퇴근시간 때가 대중교통 이용수가 많음 \n",
    "time_org_group = sk_emd[\"pop\"].groupby(sk_emd[\"tm_trm\"])\n",
    "print(time_org_group.sum().sort_values(ascending=False))\n",
    "time_org_group.sum().plot(style='.-')"
   ]
  },
  {
   "cell_type": "markdown",
   "metadata": {},
   "source": [
    "# TripChain"
   ]
  },
  {
   "cell_type": "code",
   "execution_count": 49,
   "metadata": {},
   "outputs": [],
   "source": [
    "tripchain = pd.read_csv(\"./PJT001_TripChain.csv\")"
   ]
  },
  {
   "cell_type": "code",
   "execution_count": 50,
   "metadata": {
    "scrolled": true
   },
   "outputs": [
    {
     "data": {
      "text/html": [
       "<div>\n",
       "<style scoped>\n",
       "    .dataframe tbody tr th:only-of-type {\n",
       "        vertical-align: middle;\n",
       "    }\n",
       "\n",
       "    .dataframe tbody tr th {\n",
       "        vertical-align: top;\n",
       "    }\n",
       "\n",
       "    .dataframe thead th {\n",
       "        text-align: right;\n",
       "    }\n",
       "</style>\n",
       "<table border=\"1\" class=\"dataframe\">\n",
       "  <thead>\n",
       "    <tr style=\"text-align: right;\">\n",
       "      <th></th>\n",
       "      <th>암호화카드번호||'</th>\n",
       "      <th>'||트랜잭션ID||'</th>\n",
       "      <th>'||환승횟수||'</th>\n",
       "      <th>'||교통카드발행사ID||'</th>\n",
       "      <th>'||총이용객수||'</th>\n",
       "      <th>'||사용자구분||'</th>\n",
       "      <th>'||교통수단CD1||'</th>\n",
       "      <th>'||교통수단CD2||'</th>\n",
       "      <th>'||교통수단CD3||'</th>\n",
       "      <th>'||교통수단CD4||'</th>\n",
       "      <th>...</th>\n",
       "      <th>'||하차역ID1||'</th>\n",
       "      <th>'||하차역ID2||'</th>\n",
       "      <th>'||하차역ID3||'</th>\n",
       "      <th>'||하차역ID4||'</th>\n",
       "      <th>'||하차역ID5||'</th>\n",
       "      <th>'||최초승차역ID||'</th>\n",
       "      <th>'||최종하차역ID||'</th>\n",
       "      <th>'||총이용금액||'</th>\n",
       "      <th>'||수집건수||'</th>\n",
       "      <th>'||트립체인완료코드</th>\n",
       "    </tr>\n",
       "  </thead>\n",
       "  <tbody>\n",
       "    <tr>\n",
       "      <th>0</th>\n",
       "      <td>900079696430</td>\n",
       "      <td>56</td>\n",
       "      <td>2</td>\n",
       "      <td>9000923</td>\n",
       "      <td>1</td>\n",
       "      <td>1</td>\n",
       "      <td>500.0</td>\n",
       "      <td>500.0</td>\n",
       "      <td>NaN</td>\n",
       "      <td>NaN</td>\n",
       "      <td>...</td>\n",
       "      <td>NaN</td>\n",
       "      <td>NaN</td>\n",
       "      <td>NaN</td>\n",
       "      <td>NaN</td>\n",
       "      <td>NaN</td>\n",
       "      <td>NaN</td>\n",
       "      <td>4116708.0</td>\n",
       "      <td>1350</td>\n",
       "      <td>2</td>\n",
       "      <td>;</td>\n",
       "    </tr>\n",
       "    <tr>\n",
       "      <th>1</th>\n",
       "      <td>900079697651</td>\n",
       "      <td>5</td>\n",
       "      <td>1</td>\n",
       "      <td>9000923</td>\n",
       "      <td>1</td>\n",
       "      <td>1</td>\n",
       "      <td>500.0</td>\n",
       "      <td>NaN</td>\n",
       "      <td>NaN</td>\n",
       "      <td>NaN</td>\n",
       "      <td>...</td>\n",
       "      <td>NaN</td>\n",
       "      <td>NaN</td>\n",
       "      <td>NaN</td>\n",
       "      <td>NaN</td>\n",
       "      <td>NaN</td>\n",
       "      <td>NaN</td>\n",
       "      <td>4117269.0</td>\n",
       "      <td>1250</td>\n",
       "      <td>1</td>\n",
       "      <td>;</td>\n",
       "    </tr>\n",
       "    <tr>\n",
       "      <th>2</th>\n",
       "      <td>900079698254</td>\n",
       "      <td>32</td>\n",
       "      <td>1</td>\n",
       "      <td>9000923</td>\n",
       "      <td>1</td>\n",
       "      <td>1</td>\n",
       "      <td>500.0</td>\n",
       "      <td>NaN</td>\n",
       "      <td>NaN</td>\n",
       "      <td>NaN</td>\n",
       "      <td>...</td>\n",
       "      <td>NaN</td>\n",
       "      <td>NaN</td>\n",
       "      <td>NaN</td>\n",
       "      <td>NaN</td>\n",
       "      <td>NaN</td>\n",
       "      <td>NaN</td>\n",
       "      <td>4107936.0</td>\n",
       "      <td>1550</td>\n",
       "      <td>1</td>\n",
       "      <td>;</td>\n",
       "    </tr>\n",
       "    <tr>\n",
       "      <th>3</th>\n",
       "      <td>900079699257</td>\n",
       "      <td>80</td>\n",
       "      <td>1</td>\n",
       "      <td>9000923</td>\n",
       "      <td>1</td>\n",
       "      <td>1</td>\n",
       "      <td>500.0</td>\n",
       "      <td>NaN</td>\n",
       "      <td>NaN</td>\n",
       "      <td>NaN</td>\n",
       "      <td>...</td>\n",
       "      <td>NaN</td>\n",
       "      <td>NaN</td>\n",
       "      <td>NaN</td>\n",
       "      <td>NaN</td>\n",
       "      <td>NaN</td>\n",
       "      <td>NaN</td>\n",
       "      <td>4116717.0</td>\n",
       "      <td>1250</td>\n",
       "      <td>1</td>\n",
       "      <td>;</td>\n",
       "    </tr>\n",
       "    <tr>\n",
       "      <th>4</th>\n",
       "      <td>900079701419</td>\n",
       "      <td>64</td>\n",
       "      <td>1</td>\n",
       "      <td>9000923</td>\n",
       "      <td>1</td>\n",
       "      <td>1</td>\n",
       "      <td>530.0</td>\n",
       "      <td>NaN</td>\n",
       "      <td>NaN</td>\n",
       "      <td>NaN</td>\n",
       "      <td>...</td>\n",
       "      <td>NaN</td>\n",
       "      <td>NaN</td>\n",
       "      <td>NaN</td>\n",
       "      <td>NaN</td>\n",
       "      <td>NaN</td>\n",
       "      <td>NaN</td>\n",
       "      <td>4116848.0</td>\n",
       "      <td>2050</td>\n",
       "      <td>1</td>\n",
       "      <td>;</td>\n",
       "    </tr>\n",
       "  </tbody>\n",
       "</table>\n",
       "<p>5 rows × 51 columns</p>\n",
       "</div>"
      ],
      "text/plain": [
       "     암호화카드번호||'  '||트랜잭션ID||'  '||환승횟수||'  '||교통카드발행사ID||'  '||총이용객수||'  \\\n",
       "0  900079696430            56           2          9000923            1   \n",
       "1  900079697651             5           1          9000923            1   \n",
       "2  900079698254            32           1          9000923            1   \n",
       "3  900079699257            80           1          9000923            1   \n",
       "4  900079701419            64           1          9000923            1   \n",
       "\n",
       "   '||사용자구분||'  '||교통수단CD1||'  '||교통수단CD2||'  '||교통수단CD3||'  '||교통수단CD4||'  \\\n",
       "0            1          500.0          500.0            NaN            NaN   \n",
       "1            1          500.0            NaN            NaN            NaN   \n",
       "2            1          500.0            NaN            NaN            NaN   \n",
       "3            1          500.0            NaN            NaN            NaN   \n",
       "4            1          530.0            NaN            NaN            NaN   \n",
       "\n",
       "   ...  '||하차역ID1||'  '||하차역ID2||'  '||하차역ID3||'  '||하차역ID4||'  '||하차역ID5||'  \\\n",
       "0  ...           NaN           NaN           NaN           NaN           NaN   \n",
       "1  ...           NaN           NaN           NaN           NaN           NaN   \n",
       "2  ...           NaN           NaN           NaN           NaN           NaN   \n",
       "3  ...           NaN           NaN           NaN           NaN           NaN   \n",
       "4  ...           NaN           NaN           NaN           NaN           NaN   \n",
       "\n",
       "   '||최초승차역ID||'  '||최종하차역ID||'  '||총이용금액||'  '||수집건수||'  '||트립체인완료코드  \n",
       "0            NaN      4116708.0         1350           2            ;  \n",
       "1            NaN      4117269.0         1250           1            ;  \n",
       "2            NaN      4107936.0         1550           1            ;  \n",
       "3            NaN      4116717.0         1250           1            ;  \n",
       "4            NaN      4116848.0         2050           1            ;  \n",
       "\n",
       "[5 rows x 51 columns]"
      ]
     },
     "execution_count": 50,
     "metadata": {},
     "output_type": "execute_result"
    }
   ],
   "source": [
    "tripchain.head()"
   ]
  },
  {
   "cell_type": "code",
   "execution_count": 51,
   "metadata": {},
   "outputs": [
    {
     "data": {
      "text/plain": [
       "Index(['암호화카드번호||'', ''||트랜잭션ID||'', ''||환승횟수||'', ''||교통카드발행사ID||'',\n",
       "       ''||총이용객수||'', ''||사용자구분||'', ''||교통수단CD1||'', ''||교통수단CD2||'',\n",
       "       ''||교통수단CD3||'', ''||교통수단CD4||'', ''||교통수단CD5||'', ''||버스노선ID1||'',\n",
       "       ''||버스노선ID2||'', ''||버스노선ID3||'', ''||버스노선ID4||'', ''||버스노선ID5||'',\n",
       "       ''||차량ID1||'', ''||차량ID2||'', ''||차량ID3||'', ''||차량ID4||'',\n",
       "       ''||차량ID5||'', ''||총통행거리||'', ''||총탑승시간||'', ''||총소요시간||'',\n",
       "       ''||승차일시1||'', ''||승차일시2||'', ''||승차일시3||'', ''||승차일시4||'',\n",
       "       ''||승차일시5||'', ''||하차일시1||'', ''||하차일시2||'', ''||하차일시3||'',\n",
       "       ''||하차일시4||'', ''||하차일시5||'', ''||최초승차일시||'', ''||최종하차일시||'',\n",
       "       ''||승차역ID1||'', ''||승차역ID2||'', ''||승차역ID3||'', ''||승차역ID4||'',\n",
       "       ''||승차역ID5||'', ''||하차역ID1||'', ''||하차역ID2||'', ''||하차역ID3||'',\n",
       "       ''||하차역ID4||'', ''||하차역ID5||'', ''||최초승차역ID||'', ''||최종하차역ID||'',\n",
       "       ''||총이용금액||'', ''||수집건수||'', ''||트립체인완료코드'],\n",
       "      dtype='object')"
      ]
     },
     "execution_count": 51,
     "metadata": {},
     "output_type": "execute_result"
    }
   ],
   "source": [
    "tripchain.columns"
   ]
  },
  {
   "cell_type": "code",
   "execution_count": 52,
   "metadata": {},
   "outputs": [
    {
     "data": {
      "text/plain": [
       "<matplotlib.axes._subplots.AxesSubplot at 0x187016282e8>"
      ]
     },
     "execution_count": 52,
     "metadata": {},
     "output_type": "execute_result"
    },
    {
     "data": {
      "image/png": "[encoded data removed]",
      "text/plain": [
       "<Figure size 432x288 with 1 Axes>"
      ]
     },
     "metadata": {
      "needs_background": "light"
     },
     "output_type": "display_data"
    }
   ],
   "source": [
    "#histogram\n",
    "sns.distplot(tripchain[\"'||환승횟수||'\"])"
   ]
  },
  {
   "cell_type": "code",
   "execution_count": 102,
   "metadata": {},
   "outputs": [
    {
     "data": {
      "text/plain": [
       "<matplotlib.axes._subplots.AxesSubplot at 0x1874cc77710>"
      ]
     },
     "execution_count": 102,
     "metadata": {},
     "output_type": "execute_result"
    },
    {
     "data": {
      "image/png": "[encoded data removed]",
      "text/plain": [
       "<Figure size 432x288 with 1 Axes>"
      ]
     },
     "metadata": {
      "needs_background": "light"
     },
     "output_type": "display_data"
    }
   ],
   "source": [
    "#histogram\n",
    "sns.distplot(tripchain[\"'||총이용객수||'\"])"
   ]
  },
  {
   "cell_type": "markdown",
   "metadata": {},
   "source": [
    "## 환승 정보 "
   ]
  },
  {
   "cell_type": "code",
   "execution_count": 101,
   "metadata": {},
   "outputs": [
    {
     "data": {
      "text/html": [
       "<div>\n",
       "<style scoped>\n",
       "    .dataframe tbody tr th:only-of-type {\n",
       "        vertical-align: middle;\n",
       "    }\n",
       "\n",
       "    .dataframe tbody tr th {\n",
       "        vertical-align: top;\n",
       "    }\n",
       "\n",
       "    .dataframe thead th {\n",
       "        text-align: right;\n",
       "    }\n",
       "</style>\n",
       "<table border=\"1\" class=\"dataframe\">\n",
       "  <thead>\n",
       "    <tr style=\"text-align: right;\">\n",
       "      <th></th>\n",
       "      <th>'||승차일시1||'</th>\n",
       "      <th>'||승차일시2||'</th>\n",
       "      <th>'||승차일시3||'</th>\n",
       "      <th>'||하차일시1||'</th>\n",
       "      <th>'||하차일시2||'</th>\n",
       "      <th>'||하차일시3||'</th>\n",
       "      <th>'||승차역ID1||'</th>\n",
       "      <th>'||승차역ID2||'</th>\n",
       "      <th>'||승차역ID3||'</th>\n",
       "      <th>'||하차역ID1||'</th>\n",
       "      <th>'||하차역ID2||'</th>\n",
       "      <th>'||하차역ID3||'</th>\n",
       "    </tr>\n",
       "  </thead>\n",
       "  <tbody>\n",
       "    <tr>\n",
       "      <th>3</th>\n",
       "      <td>2.018070e+13</td>\n",
       "      <td>NaN</td>\n",
       "      <td>NaN</td>\n",
       "      <td>2.018070e+13</td>\n",
       "      <td>NaN</td>\n",
       "      <td>NaN</td>\n",
       "      <td>4108130.0</td>\n",
       "      <td>NaN</td>\n",
       "      <td>NaN</td>\n",
       "      <td>NaN</td>\n",
       "      <td>NaN</td>\n",
       "      <td>NaN</td>\n",
       "    </tr>\n",
       "    <tr>\n",
       "      <th>454870</th>\n",
       "      <td>2.018070e+13</td>\n",
       "      <td>2.018070e+13</td>\n",
       "      <td>NaN</td>\n",
       "      <td>2.018070e+13</td>\n",
       "      <td>2.018070e+13</td>\n",
       "      <td>NaN</td>\n",
       "      <td>4116882.0</td>\n",
       "      <td>4108071.0</td>\n",
       "      <td>NaN</td>\n",
       "      <td>NaN</td>\n",
       "      <td>NaN</td>\n",
       "      <td>NaN</td>\n",
       "    </tr>\n",
       "    <tr>\n",
       "      <th>840424</th>\n",
       "      <td>2.018070e+13</td>\n",
       "      <td>2.018070e+13</td>\n",
       "      <td>2.018070e+13</td>\n",
       "      <td>2.018070e+13</td>\n",
       "      <td>2.018070e+13</td>\n",
       "      <td>2.018070e+13</td>\n",
       "      <td>4116882.0</td>\n",
       "      <td>4108071.0</td>\n",
       "      <td>4108130.0</td>\n",
       "      <td>NaN</td>\n",
       "      <td>NaN</td>\n",
       "      <td>NaN</td>\n",
       "    </tr>\n",
       "  </tbody>\n",
       "</table>\n",
       "</div>"
      ],
      "text/plain": [
       "         '||승차일시1||'   '||승차일시2||'   '||승차일시3||'   '||하차일시1||'   '||하차일시2||'  \\\n",
       "3       2.018070e+13           NaN           NaN  2.018070e+13           NaN   \n",
       "454870  2.018070e+13  2.018070e+13           NaN  2.018070e+13  2.018070e+13   \n",
       "840424  2.018070e+13  2.018070e+13  2.018070e+13  2.018070e+13  2.018070e+13   \n",
       "\n",
       "         '||하차일시3||'  '||승차역ID1||'  '||승차역ID2||'  '||승차역ID3||'  '||하차역ID1||'  \\\n",
       "3                NaN     4108130.0           NaN           NaN           NaN   \n",
       "454870           NaN     4116882.0     4108071.0           NaN           NaN   \n",
       "840424  2.018070e+13     4116882.0     4108071.0     4108130.0           NaN   \n",
       "\n",
       "        '||하차역ID2||'  '||하차역ID3||'  \n",
       "3                NaN           NaN  \n",
       "454870           NaN           NaN  \n",
       "840424           NaN           NaN  "
      ]
     },
     "execution_count": 101,
     "metadata": {},
     "output_type": "execute_result"
    }
   ],
   "source": [
    "# 환승자 예시  : 하차역정보는 없음 ;;; 데이터 별로\n",
    "target_columns = [\"'||승차일시1||'\",\"'||승차일시2||'\",\"'||승차일시3||'\",\"'||하차일시1||'\",\"'||하차일시2||'\",\"'||하차일시3||'\"\n",
    "                 ,\"'||승차역ID1||'\", \"'||승차역ID2||'\", \"'||승차역ID3||'\", \"'||하차역ID1||'\", \"'||하차역ID2||'\", \"'||하차역ID3||'\"]\n",
    "# tripchain[tripchain[\"암호화카드번호||'\"].isin([900079699257])]\n",
    "tripchain[tripchain[\"암호화카드번호||'\"].isin([900079699257])][target_columns]"
   ]
  },
  {
   "cell_type": "code",
   "execution_count": 98,
   "metadata": {},
   "outputs": [
    {
     "data": {
      "text/html": [
       "<div>\n",
       "<style scoped>\n",
       "    .dataframe tbody tr th:only-of-type {\n",
       "        vertical-align: middle;\n",
       "    }\n",
       "\n",
       "    .dataframe tbody tr th {\n",
       "        vertical-align: top;\n",
       "    }\n",
       "\n",
       "    .dataframe thead th {\n",
       "        text-align: right;\n",
       "    }\n",
       "</style>\n",
       "<table border=\"1\" class=\"dataframe\">\n",
       "  <thead>\n",
       "    <tr style=\"text-align: right;\">\n",
       "      <th></th>\n",
       "      <th>'||승차일시1||'</th>\n",
       "      <th>'||승차일시2||'</th>\n",
       "      <th>'||승차일시3||'</th>\n",
       "      <th>'||하차일시1||'</th>\n",
       "      <th>'||하차일시2||'</th>\n",
       "      <th>'||하차일시3||'</th>\n",
       "      <th>'||승차역ID1||'</th>\n",
       "      <th>'||승차역ID2||'</th>\n",
       "      <th>'||승차역ID3||'</th>\n",
       "      <th>'||하차역ID1||'</th>\n",
       "      <th>'||하차역ID2||'</th>\n",
       "      <th>'||하차역ID3||'</th>\n",
       "    </tr>\n",
       "  </thead>\n",
       "  <tbody>\n",
       "    <tr>\n",
       "      <th>4</th>\n",
       "      <td>2.018070e+13</td>\n",
       "      <td>NaN</td>\n",
       "      <td>NaN</td>\n",
       "      <td>2.018070e+13</td>\n",
       "      <td>NaN</td>\n",
       "      <td>NaN</td>\n",
       "      <td>4100122.0</td>\n",
       "      <td>NaN</td>\n",
       "      <td>NaN</td>\n",
       "      <td>NaN</td>\n",
       "      <td>NaN</td>\n",
       "      <td>NaN</td>\n",
       "    </tr>\n",
       "    <tr>\n",
       "      <th>5</th>\n",
       "      <td>2.018070e+13</td>\n",
       "      <td>NaN</td>\n",
       "      <td>NaN</td>\n",
       "      <td>2.018070e+13</td>\n",
       "      <td>NaN</td>\n",
       "      <td>NaN</td>\n",
       "      <td>4100098.0</td>\n",
       "      <td>NaN</td>\n",
       "      <td>NaN</td>\n",
       "      <td>NaN</td>\n",
       "      <td>NaN</td>\n",
       "      <td>NaN</td>\n",
       "    </tr>\n",
       "    <tr>\n",
       "      <th>454876</th>\n",
       "      <td>2.018070e+13</td>\n",
       "      <td>NaN</td>\n",
       "      <td>NaN</td>\n",
       "      <td>2.018070e+13</td>\n",
       "      <td>NaN</td>\n",
       "      <td>NaN</td>\n",
       "      <td>4100122.0</td>\n",
       "      <td>NaN</td>\n",
       "      <td>NaN</td>\n",
       "      <td>NaN</td>\n",
       "      <td>NaN</td>\n",
       "      <td>NaN</td>\n",
       "    </tr>\n",
       "    <tr>\n",
       "      <th>840429</th>\n",
       "      <td>2.018070e+13</td>\n",
       "      <td>NaN</td>\n",
       "      <td>NaN</td>\n",
       "      <td>2.018070e+13</td>\n",
       "      <td>NaN</td>\n",
       "      <td>NaN</td>\n",
       "      <td>4100122.0</td>\n",
       "      <td>NaN</td>\n",
       "      <td>NaN</td>\n",
       "      <td>NaN</td>\n",
       "      <td>NaN</td>\n",
       "      <td>NaN</td>\n",
       "    </tr>\n",
       "    <tr>\n",
       "      <th>840430</th>\n",
       "      <td>2.018070e+13</td>\n",
       "      <td>NaN</td>\n",
       "      <td>NaN</td>\n",
       "      <td>2.018070e+13</td>\n",
       "      <td>NaN</td>\n",
       "      <td>NaN</td>\n",
       "      <td>4100098.0</td>\n",
       "      <td>NaN</td>\n",
       "      <td>NaN</td>\n",
       "      <td>NaN</td>\n",
       "      <td>NaN</td>\n",
       "      <td>NaN</td>\n",
       "    </tr>\n",
       "  </tbody>\n",
       "</table>\n",
       "</div>"
      ],
      "text/plain": [
       "         '||승차일시1||'  '||승차일시2||'  '||승차일시3||'   '||하차일시1||'  '||하차일시2||'  \\\n",
       "4       2.018070e+13          NaN          NaN  2.018070e+13          NaN   \n",
       "5       2.018070e+13          NaN          NaN  2.018070e+13          NaN   \n",
       "454876  2.018070e+13          NaN          NaN  2.018070e+13          NaN   \n",
       "840429  2.018070e+13          NaN          NaN  2.018070e+13          NaN   \n",
       "840430  2.018070e+13          NaN          NaN  2.018070e+13          NaN   \n",
       "\n",
       "        '||하차일시3||'  '||승차역ID1||'  '||승차역ID2||'  '||승차역ID3||'  '||하차역ID1||'  \\\n",
       "4               NaN     4100122.0           NaN           NaN           NaN   \n",
       "5               NaN     4100098.0           NaN           NaN           NaN   \n",
       "454876          NaN     4100122.0           NaN           NaN           NaN   \n",
       "840429          NaN     4100122.0           NaN           NaN           NaN   \n",
       "840430          NaN     4100098.0           NaN           NaN           NaN   \n",
       "\n",
       "        '||하차역ID2||'  '||하차역ID3||'  \n",
       "4                NaN           NaN  \n",
       "5                NaN           NaN  \n",
       "454876           NaN           NaN  \n",
       "840429           NaN           NaN  \n",
       "840430           NaN           NaN  "
      ]
     },
     "execution_count": 98,
     "metadata": {},
     "output_type": "execute_result"
    }
   ],
   "source": [
    "# 환승으로 보이나 환승정보가 없는 데이터\n",
    "# 환승자 정보 없지만 승차일시 1이 동일한 예시 -> 아마 환승?\n",
    "# tripchain[tripchain[\"암호화카드번호||'\"].isin([900079701419])]\n",
    "tripchain[tripchain[\"암호화카드번호||'\"].isin([900079701419])][target_columns]"
   ]
  },
  {
   "cell_type": "code",
   "execution_count": 100,
   "metadata": {},
   "outputs": [
    {
     "data": {
      "text/html": [
       "<div>\n",
       "<style scoped>\n",
       "    .dataframe tbody tr th:only-of-type {\n",
       "        vertical-align: middle;\n",
       "    }\n",
       "\n",
       "    .dataframe tbody tr th {\n",
       "        vertical-align: top;\n",
       "    }\n",
       "\n",
       "    .dataframe thead th {\n",
       "        text-align: right;\n",
       "    }\n",
       "</style>\n",
       "<table border=\"1\" class=\"dataframe\">\n",
       "  <thead>\n",
       "    <tr style=\"text-align: right;\">\n",
       "      <th></th>\n",
       "      <th>'||승차일시1||'</th>\n",
       "      <th>'||승차일시2||'</th>\n",
       "      <th>'||승차일시3||'</th>\n",
       "      <th>'||하차일시1||'</th>\n",
       "      <th>'||하차일시2||'</th>\n",
       "      <th>'||하차일시3||'</th>\n",
       "      <th>'||승차역ID1||'</th>\n",
       "      <th>'||승차역ID2||'</th>\n",
       "      <th>'||승차역ID3||'</th>\n",
       "      <th>'||하차역ID1||'</th>\n",
       "      <th>'||하차역ID2||'</th>\n",
       "      <th>'||하차역ID3||'</th>\n",
       "    </tr>\n",
       "  </thead>\n",
       "  <tbody>\n",
       "    <tr>\n",
       "      <th>0</th>\n",
       "      <td>2.018070e+13</td>\n",
       "      <td>2.018070e+13</td>\n",
       "      <td>NaN</td>\n",
       "      <td>2.018070e+13</td>\n",
       "      <td>2.018070e+13</td>\n",
       "      <td>NaN</td>\n",
       "      <td>4116828.0</td>\n",
       "      <td>4150144.0</td>\n",
       "      <td>NaN</td>\n",
       "      <td>NaN</td>\n",
       "      <td>NaN</td>\n",
       "      <td>NaN</td>\n",
       "    </tr>\n",
       "    <tr>\n",
       "      <th>539617</th>\n",
       "      <td>2.018070e+13</td>\n",
       "      <td>NaN</td>\n",
       "      <td>NaN</td>\n",
       "      <td>2.018070e+13</td>\n",
       "      <td>NaN</td>\n",
       "      <td>NaN</td>\n",
       "      <td>4116807.0</td>\n",
       "      <td>NaN</td>\n",
       "      <td>NaN</td>\n",
       "      <td>NaN</td>\n",
       "      <td>NaN</td>\n",
       "      <td>NaN</td>\n",
       "    </tr>\n",
       "    <tr>\n",
       "      <th>539618</th>\n",
       "      <td>2.018070e+13</td>\n",
       "      <td>NaN</td>\n",
       "      <td>NaN</td>\n",
       "      <td>2.018070e+13</td>\n",
       "      <td>NaN</td>\n",
       "      <td>NaN</td>\n",
       "      <td>4150159.0</td>\n",
       "      <td>NaN</td>\n",
       "      <td>NaN</td>\n",
       "      <td>NaN</td>\n",
       "      <td>NaN</td>\n",
       "      <td>NaN</td>\n",
       "    </tr>\n",
       "    <tr>\n",
       "      <th>840415</th>\n",
       "      <td>2.018070e+13</td>\n",
       "      <td>NaN</td>\n",
       "      <td>NaN</td>\n",
       "      <td>2.018070e+13</td>\n",
       "      <td>NaN</td>\n",
       "      <td>NaN</td>\n",
       "      <td>4116828.0</td>\n",
       "      <td>NaN</td>\n",
       "      <td>NaN</td>\n",
       "      <td>NaN</td>\n",
       "      <td>NaN</td>\n",
       "      <td>NaN</td>\n",
       "    </tr>\n",
       "    <tr>\n",
       "      <th>840416</th>\n",
       "      <td>2.018070e+13</td>\n",
       "      <td>NaN</td>\n",
       "      <td>NaN</td>\n",
       "      <td>2.018070e+13</td>\n",
       "      <td>NaN</td>\n",
       "      <td>NaN</td>\n",
       "      <td>4150159.0</td>\n",
       "      <td>NaN</td>\n",
       "      <td>NaN</td>\n",
       "      <td>NaN</td>\n",
       "      <td>NaN</td>\n",
       "      <td>NaN</td>\n",
       "    </tr>\n",
       "  </tbody>\n",
       "</table>\n",
       "</div>"
      ],
      "text/plain": [
       "         '||승차일시1||'   '||승차일시2||'  '||승차일시3||'   '||하차일시1||'   '||하차일시2||'  \\\n",
       "0       2.018070e+13  2.018070e+13          NaN  2.018070e+13  2.018070e+13   \n",
       "539617  2.018070e+13           NaN          NaN  2.018070e+13           NaN   \n",
       "539618  2.018070e+13           NaN          NaN  2.018070e+13           NaN   \n",
       "840415  2.018070e+13           NaN          NaN  2.018070e+13           NaN   \n",
       "840416  2.018070e+13           NaN          NaN  2.018070e+13           NaN   \n",
       "\n",
       "        '||하차일시3||'  '||승차역ID1||'  '||승차역ID2||'  '||승차역ID3||'  '||하차역ID1||'  \\\n",
       "0               NaN     4116828.0     4150144.0           NaN           NaN   \n",
       "539617          NaN     4116807.0           NaN           NaN           NaN   \n",
       "539618          NaN     4150159.0           NaN           NaN           NaN   \n",
       "840415          NaN     4116828.0           NaN           NaN           NaN   \n",
       "840416          NaN     4150159.0           NaN           NaN           NaN   \n",
       "\n",
       "        '||하차역ID2||'  '||하차역ID3||'  \n",
       "0                NaN           NaN  \n",
       "539617           NaN           NaN  \n",
       "539618           NaN           NaN  \n",
       "840415           NaN           NaN  \n",
       "840416           NaN           NaN  "
      ]
     },
     "execution_count": 100,
     "metadata": {},
     "output_type": "execute_result"
    }
   ],
   "source": [
    "# tripchain[tripchain[\"암호화카드번호||'\"].isin([900079696430])]\n",
    "tripchain[tripchain[\"암호화카드번호||'\"].isin([900079696430])][target_columns]"
   ]
  },
  {
   "cell_type": "code",
   "execution_count": null,
   "metadata": {},
   "outputs": [],
   "source": []
  }
 ],
 "metadata": {
  "kernelspec": {
   "display_name": "Python 3",
   "language": "python",
   "name": "python3"
  },
  "language_info": {
   "codemirror_mode": {
    "name": "ipython",
    "version": 3
   },
   "file_extension": ".py",
   "mimetype": "text/x-python",
   "name": "python",
   "nbconvert_exporter": "python",
   "pygments_lexer": "ipython3",
   "version": "3.7.3"
  }
 },
 "nbformat": 4,
 "nbformat_minor": 2
}
