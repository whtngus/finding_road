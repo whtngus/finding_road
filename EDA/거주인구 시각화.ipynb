{
 "cells": [
  {
   "cell_type": "code",
   "execution_count": null,
   "metadata": {},
   "outputs": [],
   "source": [
    "# 데이터 탐색\n",
    "'''\n",
    "    null 값\n",
    "    변수 별 히스토그램...산점도 등\n",
    "    지역 별 \n",
    "    건물 용도 별\n",
    "\n",
    "    1. 시계열\n",
    "    2. 의사결정나무(온도, 습도, 전기량...)\n",
    "'''"
   ]
  },
  {
   "cell_type": "code",
   "execution_count": 1,
   "metadata": {},
   "outputs": [],
   "source": [
    "import pandas as pd\n",
    "import numpy as np\n",
    "import seaborn as sns\n",
    "import geopandas as gpd\n",
    "import json\n",
    "import folium\n",
    "import csv\n",
    "%matplotlib inline\n",
    "\n",
    "import matplotlib.pyplot as plt\n",
    "import geopandas as gpd\n",
    "import pysal as ps\n",
    "# from pysal.contrib.viz import mapping as maps\n",
    "path = 'C:/python/jupyter/fire_train/data'\n",
    "\n",
    "import json\n",
    "from folium.features import GeoJson\n",
    "import geojson\n",
    "from geojson import MultiPolygon"
   ]
  },
  {
   "cell_type": "code",
   "execution_count": 2,
   "metadata": {},
   "outputs": [],
   "source": [
    "# 데이터 로드\n",
    "'''\n",
    "    1. move_people :  2018년7월1~4일의 행정동별 이동인구수 정보\n",
    "    2. station : 17~18 년도 정류장\n",
    "    3. card : 2018.07 1~4일 카드정보\n",
    "    4. hs : 화성시 읍면동\n",
    "    5. grid_move : 그리드 유동인구정보\n",
    "    6. grid_live : 그리드 거주인구정보\n",
    "    7. link : 2018 도로 링크 정보\n",
    "'''\n",
    "move_people = pd.read_csv(path+'/PJT001_sk_emd_od.csv')\n",
    "station = pd.read_csv(path+'/PJT001_stations_table.csv')\n",
    "card = pd.read_csv(path+'/PJT001_TripChain.csv')\n",
    "\n",
    "## JSON 형식으로 데이터 로드\n",
    "# hs = open(path+'/PJT001_tl_scco_emd.geojson','r',encoding='utf8').read()\n",
    "# hs_data = json.loads(hs)\n",
    "# grid_move = open(path+'/PJT001_h_100m_cell_flow.geojson','r',encoding='utf8').read()\n",
    "# move_data = json.loads(grid_move)\n",
    "# grid_live = open(path+'/PJT001_h_100m_cell_pop.geojson','r',encoding='utf8').read()\n",
    "# live_data = json.loads(grid_live)\n",
    "# link = open(path+'/PJT001_moc_link_2018.geojson','r',encoding='utf8').read()\n",
    "# link_data = json.loads(link)\n",
    "\n",
    "# grid_move = gpd.read_file(path+'/PJT001_h_100m_cell_flow.geojson.txt')\n",
    "# hs = gpd.read_file(path+'/PJT001_tl_scco_emd.geojson.txt')\n",
    "grid_live = gpd.read_file(path+'/PJT001_h_100m_cell_pop.geojson.txt')\n",
    "# link = gpd.read_file(path+'/PJT001_moc_link_2018.geojson.txt',encoding='utf8')"
   ]
  },
  {
   "cell_type": "code",
   "execution_count": 86,
   "metadata": {},
   "outputs": [],
   "source": [
    "# 1. 기본 geometry 시각화\n",
    "\n",
    "m = folium.Map(location=[37.176704, 126.870683], zoom_start=5)\n",
    "for index, row in grid_live.iterrows():\n",
    "    GeoJson(\n",
    "        row['geometry'],\n",
    "        name='geojson'\n",
    "    ).add_to(m)"
   ]
  },
  {
   "cell_type": "code",
   "execution_count": null,
   "metadata": {},
   "outputs": [],
   "source": [
    "m.save(html1.txt)"
   ]
  },
  {
   "cell_type": "markdown",
   "metadata": {},
   "source": [
    "# 거주인구 + pop 시각화"
   ]
  },
  {
   "cell_type": "code",
   "execution_count": null,
   "metadata": {},
   "outputs": [],
   "source": [
    "grid_live = gpd.read_file(path+'/PJT001_h_100m_cell_pop.geojson.txt')\n",
    "pop = grid_live[['pop_ttl']]\n",
    "center = grid_live.geometry.centroid"
   ]
  },
  {
   "cell_type": "code",
   "execution_count": 277,
   "metadata": {},
   "outputs": [],
   "source": [
    "m4 = folium.Map(location=[37.176704, 126.870683], zoom_start=5)\n",
    "\n",
    "for index, row in pop.iterrows():\n",
    "    if row[0] == 0:\n",
    "        continue\n",
    "#     folium.CircleMarker([center[index].y,center[index].x],radius=0.5*(row[0]/10), color = 'green',fill_color='green').add_to(m4)\n",
    "    if row[0] < 5:\n",
    "        folium.CircleMarker([center[index].y,center[index].x],radius=0.5*(row[0]/50), color = 'green',fill_color='green').add_to(m4)\n",
    "    elif row[0] <15:\n",
    "        folium.CircleMarker([center[index].y,center[index].x],radius=0.5*(row[0]/50), color = 'blue',fill_color='blue').add_to(m4)\n",
    "    else:\n",
    "        folium.CircleMarker([center[index].y,center[index].x],radius=0.5*(row[0]/50), color = 'red',fill_color='red').add_to(m4)\n",
    "#     folium.Marker([center[index].y,center[index].x],radius=0.5*(row[0]/100), color = 'red').add_to(m4)"
   ]
  },
  {
   "cell_type": "code",
   "execution_count": 279,
   "metadata": {},
   "outputs": [],
   "source": [
    "m4.save(\"tmp.html\")"
   ]
  },
  {
   "cell_type": "code",
   "execution_count": 263,
   "metadata": {},
   "outputs": [
    {
     "data": {
      "text/html": [
       "<div>\n",
       "<style scoped>\n",
       "    .dataframe tbody tr th:only-of-type {\n",
       "        vertical-align: middle;\n",
       "    }\n",
       "\n",
       "    .dataframe tbody tr th {\n",
       "        vertical-align: top;\n",
       "    }\n",
       "\n",
       "    .dataframe thead th {\n",
       "        text-align: right;\n",
       "    }\n",
       "</style>\n",
       "<table border=\"1\" class=\"dataframe\">\n",
       "  <thead>\n",
       "    <tr style=\"text-align: right;\">\n",
       "      <th></th>\n",
       "      <th>pop_ttl</th>\n",
       "    </tr>\n",
       "  </thead>\n",
       "  <tbody>\n",
       "    <tr>\n",
       "      <th>0</th>\n",
       "      <td>7.0</td>\n",
       "    </tr>\n",
       "    <tr>\n",
       "      <th>1</th>\n",
       "      <td>10.0</td>\n",
       "    </tr>\n",
       "    <tr>\n",
       "      <th>2</th>\n",
       "      <td>12.0</td>\n",
       "    </tr>\n",
       "    <tr>\n",
       "      <th>3</th>\n",
       "      <td>5.0</td>\n",
       "    </tr>\n",
       "    <tr>\n",
       "      <th>4</th>\n",
       "      <td>8.0</td>\n",
       "    </tr>\n",
       "    <tr>\n",
       "      <th>...</th>\n",
       "      <td>...</td>\n",
       "    </tr>\n",
       "    <tr>\n",
       "      <th>10642</th>\n",
       "      <td>30.0</td>\n",
       "    </tr>\n",
       "    <tr>\n",
       "      <th>10643</th>\n",
       "      <td>16.0</td>\n",
       "    </tr>\n",
       "    <tr>\n",
       "      <th>10644</th>\n",
       "      <td>12.0</td>\n",
       "    </tr>\n",
       "    <tr>\n",
       "      <th>10645</th>\n",
       "      <td>10.0</td>\n",
       "    </tr>\n",
       "    <tr>\n",
       "      <th>10646</th>\n",
       "      <td>9.0</td>\n",
       "    </tr>\n",
       "  </tbody>\n",
       "</table>\n",
       "<p>10647 rows × 1 columns</p>\n",
       "</div>"
      ],
      "text/plain": [
       "       pop_ttl\n",
       "0          7.0\n",
       "1         10.0\n",
       "2         12.0\n",
       "3          5.0\n",
       "4          8.0\n",
       "...        ...\n",
       "10642     30.0\n",
       "10643     16.0\n",
       "10644     12.0\n",
       "10645     10.0\n",
       "10646      9.0\n",
       "\n",
       "[10647 rows x 1 columns]"
      ]
     },
     "execution_count": 263,
     "metadata": {},
     "output_type": "execute_result"
    }
   ],
   "source": [
    "pop"
   ]
  }
 ],
 "metadata": {
  "kernelspec": {
   "display_name": "Python 3",
   "language": "python",
   "name": "python3"
  },
  "language_info": {
   "codemirror_mode": {
    "name": "ipython",
    "version": 3
   },
   "file_extension": ".py",
   "mimetype": "text/x-python",
   "name": "python",
   "nbconvert_exporter": "python",
   "pygments_lexer": "ipython3",
   "version": "3.7.5"
  }
 },
 "nbformat": 4,
 "nbformat_minor": 2
}
