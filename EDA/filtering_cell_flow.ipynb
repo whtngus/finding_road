{
 "cells": [
  {
   "cell_type": "markdown",
   "metadata": {},
   "source": [
    "## file Load"
   ]
  },
  {
   "cell_type": "code",
   "execution_count": 11,
   "metadata": {},
   "outputs": [],
   "source": [
    "import pandas as pd\n",
    "# import seaborn as sns\n",
    "import matplotlib as mpl\n",
    "import matplotlib.pylab as plt\n",
    "import json\n",
    "# 지도 매핑\n",
    "import folium\n",
    "# 한글깨짐 해결\n",
    "plt.rcParams[\"font.family\"] = \"Malgun Gothic\"\n",
    "plt.rcParams[\"font.size\"] = 12\n",
    "plt.rcParams[\"figure.figsize\"] = (14,4)\n",
    "# 마이너스 깨짐 해결\n",
    "mpl.rcParams['axes.unicode_minus'] = False"
   ]
  },
  {
   "cell_type": "code",
   "execution_count": 12,
   "metadata": {},
   "outputs": [],
   "source": [
    "import geopandas as gpd\n",
    "from shapely.geometry.polygon import Polygon\n",
    "import cartopy.crs as ccrs\n",
    "import cartopy.feature as cfeature\n",
    "from folium.features import GeoJson"
   ]
  },
  {
   "cell_type": "code",
   "execution_count": 14,
   "metadata": {
    "pycharm": {
     "is_executing": false,
     "name": "#%%\n"
    }
   },
   "outputs": [],
   "source": [
    "df = gpd.read_file('./PJT001_h_100m_cell_flow.geojson')\n",
    "time_limit = 5"
   ]
  },
  {
   "cell_type": "code",
   "execution_count": 15,
   "metadata": {},
   "outputs": [],
   "source": [
    "t5 = df[\"t05_06\"] >= time_limit\n",
    "t6 = df[\"t06_07\"] >= time_limit\n",
    "t7 = df[\"t07_08\"] >= time_limit\n",
    "t8 = df[\"t08_09\"] >= time_limit\n",
    "t9 = df[\"t09_10\"] >= time_limit\n",
    "t10 = df[\"t10_11\"] >= time_limit\n",
    "go_work_time_busy_boolean = t5 & t6 & t7 & t8 & t9 & t10"
   ]
  },
  {
   "cell_type": "code",
   "execution_count": 16,
   "metadata": {},
   "outputs": [],
   "source": [
    "t17 = df[\"t17_18\"] >= time_limit\n",
    "t18 = df[\"t18_19\"] >= time_limit\n",
    "t19 = df[\"t19_20\"] >= time_limit\n",
    "go_home_time_busy_boolean = t17 & t18 & t19"
   ]
  },
  {
   "cell_type": "code",
   "execution_count": 17,
   "metadata": {
    "pycharm": {
     "is_executing": true
    }
   },
   "outputs": [],
   "source": [
    "go_work_time_busy = df[go_work_time_busy_boolean]\n",
    "go_home_time_busy = df[go_home_time_busy_boolean]"
   ]
  },
  {
   "cell_type": "code",
   "execution_count": 18,
   "metadata": {},
   "outputs": [
    {
     "data": {
      "text/html": [
       "<div>\n",
       "<style scoped>\n",
       "    .dataframe tbody tr th:only-of-type {\n",
       "        vertical-align: middle;\n",
       "    }\n",
       "\n",
       "    .dataframe tbody tr th {\n",
       "        vertical-align: top;\n",
       "    }\n",
       "\n",
       "    .dataframe thead th {\n",
       "        text-align: right;\n",
       "    }\n",
       "</style>\n",
       "<table border=\"1\" class=\"dataframe\">\n",
       "  <thead>\n",
       "    <tr style=\"text-align: right;\">\n",
       "      <th></th>\n",
       "      <th>Unnamed: 0</th>\n",
       "      <th>WGS84경도</th>\n",
       "      <th>WGS84위도</th>\n",
       "      <th>관할관청</th>\n",
       "      <th>모바일정류장ID</th>\n",
       "      <th>시군명</th>\n",
       "      <th>위치</th>\n",
       "      <th>이비카드정류장ID</th>\n",
       "      <th>정류소명</th>\n",
       "      <th>정류소번호</th>\n",
       "      <th>정류소영문명</th>\n",
       "      <th>중앙차로여부</th>\n",
       "      <th>표준정류장ID</th>\n",
       "    </tr>\n",
       "  </thead>\n",
       "  <tbody>\n",
       "    <tr>\n",
       "      <th>0</th>\n",
       "      <td>0</td>\n",
       "      <td>126.750217</td>\n",
       "      <td>37.038400</td>\n",
       "      <td>NaN</td>\n",
       "      <td>NaN</td>\n",
       "      <td>화성시</td>\n",
       "      <td>NaN</td>\n",
       "      <td>7101618.0</td>\n",
       "      <td>고온리종점(경유)</td>\n",
       "      <td>NaN</td>\n",
       "      <td>NaN</td>\n",
       "      <td>NaN</td>\n",
       "      <td>277101618</td>\n",
       "    </tr>\n",
       "    <tr>\n",
       "      <th>1</th>\n",
       "      <td>1</td>\n",
       "      <td>126.773967</td>\n",
       "      <td>37.118383</td>\n",
       "      <td>NaN</td>\n",
       "      <td>NaN</td>\n",
       "      <td>화성시</td>\n",
       "      <td>NaN</td>\n",
       "      <td>NaN</td>\n",
       "      <td>호곡리(경유)</td>\n",
       "      <td>NaN</td>\n",
       "      <td>NaN</td>\n",
       "      <td>NaN</td>\n",
       "      <td>277101619</td>\n",
       "    </tr>\n",
       "    <tr>\n",
       "      <th>2</th>\n",
       "      <td>2</td>\n",
       "      <td>127.096983</td>\n",
       "      <td>37.216617</td>\n",
       "      <td>NaN</td>\n",
       "      <td>NaN</td>\n",
       "      <td>화성시</td>\n",
       "      <td>NaN</td>\n",
       "      <td>NaN</td>\n",
       "      <td>기흥동탄IC(경유)</td>\n",
       "      <td>NaN</td>\n",
       "      <td>NaN</td>\n",
       "      <td>NaN</td>\n",
       "      <td>277101636</td>\n",
       "    </tr>\n",
       "    <tr>\n",
       "      <th>3</th>\n",
       "      <td>3</td>\n",
       "      <td>126.908633</td>\n",
       "      <td>37.136783</td>\n",
       "      <td>NaN</td>\n",
       "      <td>NaN</td>\n",
       "      <td>화성시</td>\n",
       "      <td>NaN</td>\n",
       "      <td>NaN</td>\n",
       "      <td>발안삼거리.바다마트(경유)</td>\n",
       "      <td>NaN</td>\n",
       "      <td>NaN</td>\n",
       "      <td>NaN</td>\n",
       "      <td>277101644</td>\n",
       "    </tr>\n",
       "    <tr>\n",
       "      <th>4</th>\n",
       "      <td>4</td>\n",
       "      <td>126.778417</td>\n",
       "      <td>37.103800</td>\n",
       "      <td>NaN</td>\n",
       "      <td>NaN</td>\n",
       "      <td>화성시</td>\n",
       "      <td>NaN</td>\n",
       "      <td>NaN</td>\n",
       "      <td>원안1리(경유)</td>\n",
       "      <td>NaN</td>\n",
       "      <td>NaN</td>\n",
       "      <td>NaN</td>\n",
       "      <td>277101677</td>\n",
       "    </tr>\n",
       "    <tr>\n",
       "      <th>...</th>\n",
       "      <td>...</td>\n",
       "      <td>...</td>\n",
       "      <td>...</td>\n",
       "      <td>...</td>\n",
       "      <td>...</td>\n",
       "      <td>...</td>\n",
       "      <td>...</td>\n",
       "      <td>...</td>\n",
       "      <td>...</td>\n",
       "      <td>...</td>\n",
       "      <td>...</td>\n",
       "      <td>...</td>\n",
       "      <td>...</td>\n",
       "    </tr>\n",
       "    <tr>\n",
       "      <th>2650</th>\n",
       "      <td>2650</td>\n",
       "      <td>127.023433</td>\n",
       "      <td>37.199250</td>\n",
       "      <td>NaN</td>\n",
       "      <td>NaN</td>\n",
       "      <td>화성시</td>\n",
       "      <td>NaN</td>\n",
       "      <td>NaN</td>\n",
       "      <td>대광빌라</td>\n",
       "      <td>NaN</td>\n",
       "      <td>NaN</td>\n",
       "      <td>NaN</td>\n",
       "      <td>233525700</td>\n",
       "    </tr>\n",
       "    <tr>\n",
       "      <th>2651</th>\n",
       "      <td>2651</td>\n",
       "      <td>126.922833</td>\n",
       "      <td>37.165117</td>\n",
       "      <td>NaN</td>\n",
       "      <td>NaN</td>\n",
       "      <td>화성시</td>\n",
       "      <td>NaN</td>\n",
       "      <td>NaN</td>\n",
       "      <td>덕우저수지</td>\n",
       "      <td>NaN</td>\n",
       "      <td>NaN</td>\n",
       "      <td>NaN</td>\n",
       "      <td>233525710</td>\n",
       "    </tr>\n",
       "    <tr>\n",
       "      <th>2652</th>\n",
       "      <td>2652</td>\n",
       "      <td>126.915517</td>\n",
       "      <td>37.160717</td>\n",
       "      <td>NaN</td>\n",
       "      <td>NaN</td>\n",
       "      <td>화성시</td>\n",
       "      <td>NaN</td>\n",
       "      <td>NaN</td>\n",
       "      <td>덕우공단입구</td>\n",
       "      <td>NaN</td>\n",
       "      <td>NaN</td>\n",
       "      <td>NaN</td>\n",
       "      <td>233525720</td>\n",
       "    </tr>\n",
       "    <tr>\n",
       "      <th>2653</th>\n",
       "      <td>2653</td>\n",
       "      <td>126.911933</td>\n",
       "      <td>37.161600</td>\n",
       "      <td>NaN</td>\n",
       "      <td>NaN</td>\n",
       "      <td>화성시</td>\n",
       "      <td>NaN</td>\n",
       "      <td>NaN</td>\n",
       "      <td>청호인재개발원</td>\n",
       "      <td>NaN</td>\n",
       "      <td>NaN</td>\n",
       "      <td>NaN</td>\n",
       "      <td>233525730</td>\n",
       "    </tr>\n",
       "    <tr>\n",
       "      <th>2654</th>\n",
       "      <td>2654</td>\n",
       "      <td>126.908033</td>\n",
       "      <td>37.160800</td>\n",
       "      <td>NaN</td>\n",
       "      <td>NaN</td>\n",
       "      <td>화성시</td>\n",
       "      <td>NaN</td>\n",
       "      <td>NaN</td>\n",
       "      <td>구장2리</td>\n",
       "      <td>NaN</td>\n",
       "      <td>NaN</td>\n",
       "      <td>NaN</td>\n",
       "      <td>233525740</td>\n",
       "    </tr>\n",
       "  </tbody>\n",
       "</table>\n",
       "<p>2655 rows × 13 columns</p>\n",
       "</div>"
      ],
      "text/plain": [
       "      Unnamed: 0     WGS84경도    WGS84위도 관할관청 모바일정류장ID  시군명   위치  이비카드정류장ID  \\\n",
       "0              0  126.750217  37.038400  NaN      NaN  화성시  NaN  7101618.0   \n",
       "1              1  126.773967  37.118383  NaN      NaN  화성시  NaN        NaN   \n",
       "2              2  127.096983  37.216617  NaN      NaN  화성시  NaN        NaN   \n",
       "3              3  126.908633  37.136783  NaN      NaN  화성시  NaN        NaN   \n",
       "4              4  126.778417  37.103800  NaN      NaN  화성시  NaN        NaN   \n",
       "...          ...         ...        ...  ...      ...  ...  ...        ...   \n",
       "2650        2650  127.023433  37.199250  NaN      NaN  화성시  NaN        NaN   \n",
       "2651        2651  126.922833  37.165117  NaN      NaN  화성시  NaN        NaN   \n",
       "2652        2652  126.915517  37.160717  NaN      NaN  화성시  NaN        NaN   \n",
       "2653        2653  126.911933  37.161600  NaN      NaN  화성시  NaN        NaN   \n",
       "2654        2654  126.908033  37.160800  NaN      NaN  화성시  NaN        NaN   \n",
       "\n",
       "                정류소명  정류소번호 정류소영문명 중앙차로여부    표준정류장ID  \n",
       "0          고온리종점(경유)    NaN    NaN    NaN  277101618  \n",
       "1            호곡리(경유)    NaN    NaN    NaN  277101619  \n",
       "2         기흥동탄IC(경유)    NaN    NaN    NaN  277101636  \n",
       "3     발안삼거리.바다마트(경유)    NaN    NaN    NaN  277101644  \n",
       "4           원안1리(경유)    NaN    NaN    NaN  277101677  \n",
       "...              ...    ...    ...    ...        ...  \n",
       "2650            대광빌라    NaN    NaN    NaN  233525700  \n",
       "2651           덕우저수지    NaN    NaN    NaN  233525710  \n",
       "2652          덕우공단입구    NaN    NaN    NaN  233525720  \n",
       "2653         청호인재개발원    NaN    NaN    NaN  233525730  \n",
       "2654            구장2리    NaN    NaN    NaN  233525740  \n",
       "\n",
       "[2655 rows x 13 columns]"
      ]
     },
     "execution_count": 18,
     "metadata": {},
     "output_type": "execute_result"
    }
   ],
   "source": [
    "hws_station = pd.read_csv(\"hwaseong_Data.csv\")\n",
    "hws_station"
   ]
  },
  {
   "cell_type": "code",
   "execution_count": 19,
   "metadata": {
    "pycharm": {
     "name": "#%%\n"
    }
   },
   "outputs": [
    {
     "name": "stdout",
     "output_type": "stream",
     "text": [
      "1.0136521320576104e-06\n",
      "(array('d', [126.85349697864017, 126.85462193291221, 126.85462365475362, 126.85349871380531, 126.85349697864017]), array('d', [37.102357857430064, 37.10235924195435, 37.10145817798029, 37.10145679350098, 37.102357857430064]))\n",
      "126.85349697864017\n"
     ]
    }
   ],
   "source": [
    "for i in go_work_time_busy[\"geometry\"]:\n",
    "    print(i.area)\n",
    "    print(i.exterior.coords.xy)\n",
    "    x,y = i.exterior.coords.xy\n",
    "    print(x[0])\n",
    "    \n",
    "#     print(help(i))\n",
    "    break"
   ]
  },
  {
   "cell_type": "code",
   "execution_count": 32,
   "metadata": {
    "pycharm": {
     "name": "#%%\n"
    }
   },
   "outputs": [
    {
     "ename": "NameError",
     "evalue": "name 'st' is not defined",
     "output_type": "error",
     "traceback": [
      "\u001b[1;31m---------------------------------------------------------------------------\u001b[0m",
      "\u001b[1;31mNameError\u001b[0m                                 Traceback (most recent call last)",
      "\u001b[1;32m<ipython-input-32-81f42a519124>\u001b[0m in \u001b[0;36m<module>\u001b[1;34m\u001b[0m\n\u001b[0;32m      6\u001b[0m         \u001b[0mx\u001b[0m\u001b[1;33m,\u001b[0m\u001b[0my\u001b[0m \u001b[1;33m=\u001b[0m \u001b[0mi\u001b[0m\u001b[1;33m.\u001b[0m\u001b[0mexterior\u001b[0m\u001b[1;33m.\u001b[0m\u001b[0mcoords\u001b[0m\u001b[1;33m.\u001b[0m\u001b[0mxy\u001b[0m\u001b[1;33m\u001b[0m\u001b[1;33m\u001b[0m\u001b[0m\n\u001b[0;32m      7\u001b[0m \u001b[1;33m\u001b[0m\u001b[0m\n\u001b[1;32m----> 8\u001b[1;33m         \u001b[1;32mif\u001b[0m\u001b[1;33m(\u001b[0m\u001b[0mst\u001b[0m\u001b[1;33m[\u001b[0m\u001b[1;34m\"WGS84경도\"\u001b[0m\u001b[1;33m]\u001b[0m \u001b[1;33m<=\u001b[0m \u001b[0mx\u001b[0m\u001b[1;33m[\u001b[0m\u001b[1;36m1\u001b[0m\u001b[1;33m]\u001b[0m \u001b[1;33m&\u001b[0m \u001b[0mst\u001b[0m\u001b[1;33m[\u001b[0m\u001b[1;34m\"WGS84경도\"\u001b[0m\u001b[1;33m]\u001b[0m \u001b[1;33m>=\u001b[0m \u001b[0mx\u001b[0m\u001b[1;33m[\u001b[0m\u001b[1;36m3\u001b[0m\u001b[1;33m]\u001b[0m \u001b[1;33m&\u001b[0m \u001b[0mst\u001b[0m\u001b[1;33m[\u001b[0m\u001b[1;34m\"WGS84위도\"\u001b[0m\u001b[1;33m]\u001b[0m\u001b[1;33m<=\u001b[0m\u001b[0my\u001b[0m\u001b[1;33m[\u001b[0m\u001b[1;36m1\u001b[0m\u001b[1;33m]\u001b[0m \u001b[1;33m&\u001b[0m \u001b[0mst\u001b[0m\u001b[1;33m[\u001b[0m\u001b[1;34m\"WGS84위도\"\u001b[0m\u001b[1;33m]\u001b[0m \u001b[1;33m>=\u001b[0m \u001b[0my\u001b[0m\u001b[1;33m[\u001b[0m\u001b[1;36m3\u001b[0m\u001b[1;33m]\u001b[0m\u001b[1;33m)\u001b[0m \u001b[1;33m:\u001b[0m\u001b[1;33m\u001b[0m\u001b[1;33m\u001b[0m\u001b[0m\n\u001b[0m\u001b[0;32m      9\u001b[0m             \u001b[0mt_f\u001b[0m \u001b[1;33m=\u001b[0m \u001b[1;32mTrue\u001b[0m\u001b[1;33m\u001b[0m\u001b[1;33m\u001b[0m\u001b[0m\n\u001b[0;32m     10\u001b[0m             \u001b[1;32mbreak\u001b[0m\u001b[1;33m\u001b[0m\u001b[1;33m\u001b[0m\u001b[0m\n",
      "\u001b[1;31mNameError\u001b[0m: name 'st' is not defined"
     ]
    }
   ],
   "source": [
    "t_f = False\n",
    "index_list = []\n",
    "for index in range(len(hws_station)):\n",
    "    t_f = False\n",
    "    for i in go_work_time_busy[\"geometry\"]:\n",
    "        x,y = i.exterior.coords.xy\n",
    "        \n",
    "        if(st[\"WGS84경도\"] <= x[1] & st[\"WGS84경도\"] >= x[3] & st[\"WGS84위도\"]<=y[1] & st[\"WGS84위도\"] >= y[3]) :\n",
    "            t_f = True\n",
    "            break\n",
    "            \n",
    "    if t_f == False : \n",
    "        hws_station.drop(index)\n",
    "    \n",
    "hws_station"
   ]
  },
  {
   "cell_type": "code",
   "execution_count": null,
   "metadata": {
    "pycharm": {
     "name": "#%%\n"
    }
   },
   "outputs": [],
   "source": [
    "\n"
   ]
  },
  {
   "cell_type": "code",
   "execution_count": null,
   "metadata": {},
   "outputs": [],
   "source": []
  }
 ],
 "metadata": {
  "kernelspec": {
   "display_name": "Python 3",
   "language": "python",
   "name": "python3"
  },
  "language_info": {
   "codemirror_mode": {
    "name": "ipython",
    "version": 3
   },
   "file_extension": ".py",
   "mimetype": "text/x-python",
   "name": "python",
   "nbconvert_exporter": "python",
   "pygments_lexer": "ipython3",
   "version": "3.7.4"
  },
  "pycharm": {
   "stem_cell": {
    "cell_type": "raw",
    "metadata": {
     "collapsed": false
    },
    "source": []
   }
  }
 },
 "nbformat": 4,
 "nbformat_minor": 2
}
