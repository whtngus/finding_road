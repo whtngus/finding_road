{
 "cells": [
  {
   "cell_type": "markdown",
   "metadata": {},
   "source": [
    "## file Load"
   ]
  },
  {
   "cell_type": "code",
   "execution_count": 1,
   "metadata": {},
   "outputs": [],
   "source": [
    "import pandas as pd\n",
    "# import seaborn as sns\n",
    "import matplotlib as mpl\n",
    "import matplotlib.pylab as plt\n",
    "import json\n",
    "# 지도 매핑\n",
    "import folium\n",
    "# 한글깨짐 해결\n",
    "plt.rcParams[\"font.family\"] = \"Malgun Gothic\"\n",
    "plt.rcParams[\"font.size\"] = 12\n",
    "plt.rcParams[\"figure.figsize\"] = (14,4)\n",
    "# 마이너스 깨짐 해결\n",
    "mpl.rcParams['axes.unicode_minus'] = False"
   ]
  },
  {
   "cell_type": "code",
   "execution_count": 2,
   "metadata": {},
   "outputs": [],
   "source": [
    "import geopandas as gpd\n",
    "from shapely.geometry.polygon import Polygon\n",
    "import cartopy.crs as ccrs\n",
    "import cartopy.feature as cfeature\n",
    "from folium.features import GeoJson"
   ]
  },
  {
   "cell_type": "code",
   "execution_count": 10,
   "metadata": {
    "pycharm": {
     "is_executing": false,
     "name": "#%%\n"
    }
   },
   "outputs": [],
   "source": [
    "df = gpd.read_file('./PJT001_h_100m_cell_flow.geojson.txt')\n",
    "time_limit = 5"
   ]
  },
  {
   "cell_type": "code",
   "execution_count": 19,
   "metadata": {},
   "outputs": [],
   "source": [
    "t5 = df[\"t05_06\"] >= time_limit\n",
    "t6 = df[\"t06_07\"] >= time_limit\n",
    "t7 = df[\"t07_08\"] >= time_limit\n",
    "t8 = df[\"t08_09\"] >= time_limit\n",
    "t9 = df[\"t09_10\"] >= time_limit\n",
    "t10 = df[\"t10_11\"] >= time_limit\n",
    "go_work_time_busy_boolean = t5 & t6 & t7 & t8 & t9 & t10"
   ]
  },
  {
   "cell_type": "code",
   "execution_count": 23,
   "metadata": {},
   "outputs": [],
   "source": [
    "t17 = df[\"t17_18\"] >= time_limit\n",
    "t18 = df[\"t18_19\"] >= time_limit\n",
    "t19 = df[\"t19_20\"] >= time_limit\n",
    "go_home_time_busy_boolean = t17 & t18 & t19"
   ]
  },
  {
   "cell_type": "code",
   "execution_count": 24,
   "metadata": {},
   "outputs": [],
   "source": [
    "go_work_time_busy = df[go_work_time_busy_boolean]\n",
    "go_home_time_busy = df[go_home_time_busy_boolean]"
   ]
  }
 ],
 "metadata": {
  "kernelspec": {
   "display_name": "Python 3",
   "language": "python",
   "name": "python3"
  },
  "language_info": {
   "codemirror_mode": {
    "name": "ipython",
    "version": 3
   },
   "file_extension": ".py",
   "mimetype": "text/x-python",
   "name": "python",
   "nbconvert_exporter": "python",
   "pygments_lexer": "ipython3",
   "version": "3.7.3"
  },
  "pycharm": {
   "stem_cell": {
    "cell_type": "raw",
    "metadata": {
     "collapsed": false
    },
    "source": []
   }
  }
 },
 "nbformat": 4,
 "nbformat_minor": 2
}
